{
  "nbformat": 4,
  "nbformat_minor": 0,
  "metadata": {
    "colab": {
      "name": "Deployment.ipynb",
      "provenance": [],
      "collapsed_sections": []
    },
    "kernelspec": {
      "name": "python3",
      "display_name": "Python 3"
    },
    "language_info": {
      "name": "python"
    }
  },
  "cells": [
    {
      "cell_type": "markdown",
      "source": [
        "Download the model and the answer data"
      ],
      "metadata": {
        "id": "615QSPg20hx5"
      }
    },
    {
      "cell_type": "code",
      "source": [
        "!gdown --id 1RupKfx2rmFXcE-0pBbnUAcihk7dvFHNP\n",
        "!gdown --id 1ftbi-3q988SxfFOrnr12FRT_xIZ3pGFA\n",
        "!gdown --id 1zBU0xqLUZstpjlG-uxNdTdQmfxVcs2iW"
      ],
      "metadata": {
        "colab": {
          "base_uri": "https://localhost:8080/"
        },
        "id": "XSK7uRSK0Q5q",
        "outputId": "5fc67b80-fe32-46ca-b2f0-30b7c76a3932"
      },
      "execution_count": 4,
      "outputs": [
        {
          "output_type": "stream",
          "name": "stdout",
          "text": [
            "/usr/local/lib/python3.7/dist-packages/gdown/cli.py:131: FutureWarning: Option `--id` was deprecated in version 4.3.1 and will be removed in 5.0. You don't need to pass it anymore to use a file ID.\n",
            "  category=FutureWarning,\n",
            "Downloading...\n",
            "From: https://drive.google.com/uc?id=1RupKfx2rmFXcE-0pBbnUAcihk7dvFHNP\n",
            "To: /content/answer_data.csv\n",
            "100% 40.6k/40.6k [00:00<00:00, 49.8MB/s]\n",
            "/usr/local/lib/python3.7/dist-packages/gdown/cli.py:131: FutureWarning: Option `--id` was deprecated in version 4.3.1 and will be removed in 5.0. You don't need to pass it anymore to use a file ID.\n",
            "  category=FutureWarning,\n",
            "Downloading...\n",
            "From: https://drive.google.com/uc?id=1ftbi-3q988SxfFOrnr12FRT_xIZ3pGFA\n",
            "To: /content/final-model.h5\n",
            "100% 497M/497M [00:07<00:00, 65.3MB/s]\n",
            "/usr/local/lib/python3.7/dist-packages/gdown/cli.py:131: FutureWarning: Option `--id` was deprecated in version 4.3.1 and will be removed in 5.0. You don't need to pass it anymore to use a file ID.\n",
            "  category=FutureWarning,\n",
            "Downloading...\n",
            "From: https://drive.google.com/uc?id=1zBU0xqLUZstpjlG-uxNdTdQmfxVcs2iW\n",
            "To: /content/requirements.txt\n",
            "100% 143/143 [00:00<00:00, 248kB/s]\n"
          ]
        }
      ]
    },
    {
      "cell_type": "markdown",
      "source": [
        "Download and Import the library"
      ],
      "metadata": {
        "id": "SiBlXGUHzI7A"
      }
    },
    {
      "cell_type": "code",
      "source": [
        "!pip install -r requirements.txt"
      ],
      "metadata": {
        "id": "yDuyrW6d02HP"
      },
      "execution_count": null,
      "outputs": []
    },
    {
      "cell_type": "code",
      "execution_count": 1,
      "metadata": {
        "id": "7vLjB1pZzDp1"
      },
      "outputs": [],
      "source": [
        "import pandas as pd\n",
        "import tensorflow as tf\n",
        "import tensorflow_hub as hub\n",
        "import random\n",
        "import tensorflow_text as text\n",
        "from sklearn.preprocessing import LabelBinarizer"
      ]
    },
    {
      "cell_type": "markdown",
      "source": [
        "Export the model "
      ],
      "metadata": {
        "id": "2Q7xCSjD0Lqm"
      }
    },
    {
      "cell_type": "code",
      "source": [
        "model = tf.keras.models.load_model(('final-model.h5'), custom_objects={'KerasLayer':hub.KerasLayer})"
      ],
      "metadata": {
        "id": "mk-gnSEN2Ik0"
      },
      "execution_count": 2,
      "outputs": []
    },
    {
      "cell_type": "markdown",
      "source": [
        "Dataset answer"
      ],
      "metadata": {
        "id": "P6WL8JhV2QwW"
      }
    },
    {
      "cell_type": "code",
      "source": [
        "answer_data = pd.read_csv('answer_data.csv')"
      ],
      "metadata": {
        "id": "9BFaG_3J2WQW"
      },
      "execution_count": 3,
      "outputs": []
    },
    {
      "cell_type": "markdown",
      "source": [
        "Predict function"
      ],
      "metadata": {
        "id": "OFQTUlFK2ZF1"
      }
    },
    {
      "cell_type": "code",
      "source": [
        "def get_answer(input):\n",
        "\n",
        "    # Fit data class intent dari dataset ke binarizernya\n",
        "    intent_label = ['book_flight', 'change_date', 'change_name', 'checkin_online',\n",
        "                    'child_onboard', 'covid_dose', 'extra_baggage', 'flight_document',\n",
        "                    'flight_ehac', 'flight_idcard', 'flight_international',\n",
        "                    'flight_recquirement', 'flight_refund', 'payment_status',\n",
        "                    'payment_verification', 'policy_corona', 'positivie_covid',\n",
        "                    'refund_status', 'refund_test', 'reschedule_flight',\n",
        "                    'reschedule_infant', 'reschedule_insurance', 'reschedule_method',\n",
        "                    'reschedule_multiconnecting', 'reschedule_partial',\n",
        "                    'reschedule_payment', 'reschedule_refund', 'reschedule_seat',\n",
        "                    'reschedule_specific', 'reschedule_voucher', 'resend_eticket',\n",
        "                    'test_covid', 'travel_aboard', 'travel_voucher', 'greeting',\n",
        "                    'greeting_response', 'courtesy_greeting', 'thanks', 'goodbye',\n",
        "                    'attractions_Surabaya', 'attractions_Bali',\n",
        "                    'attractions_Yogyakarta', 'attractions_Palembang',\n",
        "                    'attractions_Medan']\n",
        "\n",
        "    sentence = [input]\n",
        "\n",
        "    binarizer = LabelBinarizer()\n",
        "    binarizer.fit_transform(intent_label)\n",
        "\n",
        "    # Prediksi intent chat user\n",
        "    results = tf.nn.softmax(model(tf.constant(sentence)))\n",
        "    intents = binarizer.inverse_transform(results.numpy())\n",
        "\n",
        "    #Loop from dataframe to search the answer\n",
        "    ans = []\n",
        "    for index, answer in answer_data.iterrows():\n",
        "        if intents[0] in answer['intent']:\n",
        "            ans.append(answer['answer'])\n",
        "        else:\n",
        "            continue\n",
        "\n",
        "    choice = (random.choice(ans))\n",
        "    return choice"
      ],
      "metadata": {
        "id": "W6LMiBG82cr7"
      },
      "execution_count": 6,
      "outputs": []
    },
    {
      "cell_type": "markdown",
      "source": [
        "Test Predict a Question"
      ],
      "metadata": {
        "id": "5Yk4VZBN2jw7"
      }
    },
    {
      "cell_type": "code",
      "source": [
        "question = 'Any tourist attraction in bali?'\n",
        "answer = get_answer(question)\n",
        "\n",
        "print(answer)"
      ],
      "metadata": {
        "colab": {
          "base_uri": "https://localhost:8080/"
        },
        "id": "EN05qaXN2mYq",
        "outputId": "34f87f8c-9986-4713-9396-08db5f5f0c2d"
      },
      "execution_count": 7,
      "outputs": [
        {
          "output_type": "stream",
          "name": "stdout",
          "text": [
            "To find out the recommended places in Bali You can visit https://binged.it/3mR24uU\n"
          ]
        }
      ]
    }
  ]
}