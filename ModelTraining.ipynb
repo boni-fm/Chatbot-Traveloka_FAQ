{
  "nbformat": 4,
  "nbformat_minor": 0,
  "metadata": {
    "colab": {
      "name": "ModelTraining.ipynb",
      "provenance": [],
      "collapsed_sections": []
    },
    "kernelspec": {
      "name": "python3",
      "display_name": "Python 3"
    },
    "language_info": {
      "name": "python"
    }
  },
  "cells": [
    {
      "cell_type": "markdown",
      "source": [
        "#Download Needed Files"
      ],
      "metadata": {
        "id": "-d_PpRhnsfdN"
      }
    },
    {
      "cell_type": "markdown",
      "source": [
        "FILES : \n",
        "\n",
        "\n",
        "*   requirements.txt\n",
        "*   TRAIN_FIX.csv\n",
        "*   TEST_FIX.csv\n",
        "\n"
      ],
      "metadata": {
        "id": "3uS4umfPskHS"
      }
    },
    {
      "cell_type": "code",
      "source": [
        "!gdown --id 1zBU0xqLUZstpjlG-uxNdTdQmfxVcs2iW\n",
        "!gdown --id 1D4eLGtIxWmXzvFZ9kBcipR0MvCr6cQrm\n",
        "!gdown --id 1eXCZf6B_11Yq54ksf4vr-peS_p-lwScr"
      ],
      "metadata": {
        "id": "oe5ZtPxQqoLG"
      },
      "execution_count": null,
      "outputs": []
    },
    {
      "cell_type": "markdown",
      "source": [
        "#Install and Import Library"
      ],
      "metadata": {
        "id": "lcdgqylqPKhm"
      }
    },
    {
      "cell_type": "markdown",
      "source": [
        "**INSTALLING REQUREMENTS LIBRARY**\n",
        "\n",
        "*   Flask==2.1.0\n",
        "*   gunicorn==20.1.0\n",
        "*   tensorflow==2.6.0\n",
        "*   tensorflow-text==2.6.0\n",
        "*   tensorflow-hub==0.12.0 \n",
        "*   scikit-learn==0.23.2\n",
        "*   numpy==1.19.5\n",
        "*   pandas==1.1.3\n",
        "\n",
        "Requirements library can be updated in case there is update in the script\n"
      ],
      "metadata": {
        "id": "YbdyoC-LOhKd"
      }
    },
    {
      "cell_type": "code",
      "execution_count": null,
      "metadata": {
        "id": "McDgS6HnoXHy"
      },
      "outputs": [],
      "source": [
        "!pip install -r requirements.txt"
      ]
    },
    {
      "cell_type": "markdown",
      "source": [
        "Importing the library"
      ],
      "metadata": {
        "id": "f0alU9VDPmhP"
      }
    },
    {
      "cell_type": "code",
      "source": [
        "import os\n",
        "#import shutil\n",
        "import pandas as pd\n",
        "from sklearn.preprocessing import LabelBinarizer\n",
        "\n",
        "import tensorflow as tf\n",
        "import tensorflow_hub as hub\n",
        "import tensorflow_text as text\n",
        "import seaborn as sns"
      ],
      "metadata": {
        "id": "mXCWpeZRPoFh"
      },
      "execution_count": 10,
      "outputs": []
    },
    {
      "cell_type": "markdown",
      "source": [
        "#Preparing Dataset"
      ],
      "metadata": {
        "id": "o20zO19EtDVP"
      }
    },
    {
      "cell_type": "markdown",
      "source": [
        "Inputing our dataset to train the model. List of dataset used here. Dataset based on the traveloka help center.\n",
        "\n",
        "\n",
        "> Traveloka Help Center \n",
        "> https://www.traveloka.com/en-id/help\n",
        "\n",
        "File :\n",
        "\n",
        "*   TRAIN_FIX.csv\n",
        "*   TEST_FIX.csv\n",
        "\n"
      ],
      "metadata": {
        "id": "mcMlBN8aPTN0"
      }
    },
    {
      "cell_type": "code",
      "source": [
        "datafolder=\"/content/\"\n",
        "\n",
        "trainfile=datafolder+\"Timeline ML - TRAIN_FIX.csv\"\n",
        "traindf = pd.read_csv(trainfile)\n",
        "traindf.pop('answer')"
      ],
      "metadata": {
        "id": "qKxulXVUPOxx"
      },
      "execution_count": null,
      "outputs": []
    },
    {
      "cell_type": "code",
      "source": [
        "trainfeatures=traindf.copy()\n",
        "trainlabels=trainfeatures.pop(\"intent\")\n",
        "trainfeatures=trainfeatures.values"
      ],
      "metadata": {
        "id": "ozF_IWhTTsxf"
      },
      "execution_count": 13,
      "outputs": []
    },
    {
      "cell_type": "markdown",
      "source": [
        "Convert each intent to binary label with LabelBinarizer()."
      ],
      "metadata": {
        "id": "b5d_v3UTtuHz"
      }
    },
    {
      "cell_type": "code",
      "source": [
        "binarizer=LabelBinarizer()\n",
        "trainlabels=binarizer.fit_transform(trainlabels.values)"
      ],
      "metadata": {
        "id": "ffBxJ0WwT0qs"
      },
      "execution_count": 14,
      "outputs": []
    },
    {
      "cell_type": "markdown",
      "source": [
        "Prepare a test dataset"
      ],
      "metadata": {
        "id": "J65kAPUU3LKm"
      }
    },
    {
      "cell_type": "code",
      "source": [
        "testfile=datafolder+\"Timeline ML - TEST_FIX.csv\"\n",
        "testdf = pd.read_csv(testfile)\n",
        "testdf.pop('answer')\n",
        "\n",
        "testfeatures=testdf.copy()\n",
        "testlabels=testfeatures.pop(\"intent\")\n",
        "testfeatures=testfeatures.values\n",
        "testlabels=binarizer.transform(testlabels.values)"
      ],
      "metadata": {
        "id": "JCW5cItt3PCg"
      },
      "execution_count": 15,
      "outputs": []
    },
    {
      "cell_type": "markdown",
      "source": [
        "#Load the model"
      ],
      "metadata": {
        "id": "d60ZNRCIQyHq"
      }
    },
    {
      "cell_type": "markdown",
      "source": [
        "In this case we are using small_bert/bert_en_uncased_L-8_H-512_A-8 and bert_en_uncased_preprocess"
      ],
      "metadata": {
        "id": "f7CLGNV1Q0xu"
      }
    },
    {
      "cell_type": "code",
      "source": [
        "bert_model_name = 'small_bert/bert_en_uncased_L-8_H-512_A-8' \n",
        "bert_model_link = 'https://tfhub.dev/tensorflow/small_bert/bert_en_uncased_L-8_H-512_A-8/1'\n",
        "bert_preprocess_link = 'https://tfhub.dev/tensorflow/bert_en_uncased_preprocess/2'\n",
        "\n",
        "tfhub_handle_encoder = bert_model_link\n",
        "tfhub_handle_preprocess = bert_preprocess_link\n",
        "\n",
        "print(f'BERT model selected           : {tfhub_handle_encoder}')\n",
        "print(f'Preprocess model auto-selected: {tfhub_handle_preprocess}')"
      ],
      "metadata": {
        "colab": {
          "base_uri": "https://localhost:8080/"
        },
        "id": "AypKQct_QxbE",
        "outputId": "c5a7f7c4-c091-48d3-c21a-d362bcf228c2"
      },
      "execution_count": 16,
      "outputs": [
        {
          "output_type": "stream",
          "name": "stdout",
          "text": [
            "BERT model selected           : https://tfhub.dev/tensorflow/small_bert/bert_en_uncased_L-8_H-512_A-8/1\n",
            "Preprocess model auto-selected: https://tfhub.dev/tensorflow/bert_en_uncased_preprocess/2\n"
          ]
        }
      ]
    },
    {
      "cell_type": "markdown",
      "source": [
        "#Preprocess and Bert Model"
      ],
      "metadata": {
        "id": "_lzgI0wCRDek"
      }
    },
    {
      "cell_type": "code",
      "source": [
        "bert_preprocess_model = hub.KerasLayer(tfhub_handle_preprocess)"
      ],
      "metadata": {
        "id": "XHBPmCkFT-w1"
      },
      "execution_count": 17,
      "outputs": []
    },
    {
      "cell_type": "code",
      "source": [
        "text_test = trainfeatures[0]\n",
        "text_preprocessed = bert_preprocess_model(text_test)\n",
        "\n",
        "print(f'Keys       : {list(text_preprocessed.keys())}')\n",
        "print(f'Shape      : {text_preprocessed[\"input_word_ids\"].shape}')\n",
        "print(f'Word Ids   : {text_preprocessed[\"input_word_ids\"][0, :12]}')\n",
        "print(f'Input Mask : {text_preprocessed[\"input_mask\"][0, :12]}')\n",
        "print(f'Type Ids   : {text_preprocessed[\"input_type_ids\"][0, :12]}')"
      ],
      "metadata": {
        "id": "gIYOPwYuT_MZ"
      },
      "execution_count": null,
      "outputs": []
    },
    {
      "cell_type": "code",
      "source": [
        "bert_model = hub.KerasLayer(tfhub_handle_encoder)"
      ],
      "metadata": {
        "id": "UOie3UQYUZQD"
      },
      "execution_count": 19,
      "outputs": []
    },
    {
      "cell_type": "code",
      "source": [
        "bert_results = bert_model(text_preprocessed)\n",
        "\n",
        "print(f'Loaded BERT: {tfhub_handle_encoder}')\n",
        "print(f'Pooled Outputs Shape:{bert_results[\"pooled_output\"].shape}')\n",
        "print(f'Pooled Outputs Values:{bert_results[\"pooled_output\"][0, :12]}')\n",
        "print(f'Sequence Outputs Shape:{bert_results[\"sequence_output\"].shape}')\n",
        "print(f'Sequence Outputs Values:{bert_results[\"sequence_output\"][0, :12]}')"
      ],
      "metadata": {
        "id": "WbQ-2kotUaYG"
      },
      "execution_count": null,
      "outputs": []
    },
    {
      "cell_type": "markdown",
      "source": [
        "#Creating the model for the classifier"
      ],
      "metadata": {
        "id": "tU2asf2iRFVC"
      }
    },
    {
      "cell_type": "code",
      "source": [
        "def build_classifier_model():\n",
        "  text_input = tf.keras.layers.Input(shape=(), dtype=tf.string, name='text')\n",
        "  preprocessing_layer = hub.KerasLayer(tfhub_handle_preprocess, name='preprocessing')\n",
        "  encoder_inputs = preprocessing_layer(text_input)\n",
        "  encoder = hub.KerasLayer(tfhub_handle_encoder, trainable=True, name='BERT_encoder')\n",
        "  outputs = encoder(encoder_inputs)\n",
        "  net = outputs['pooled_output']\n",
        "  net = tf.keras.layers.Dropout(0.1)(net)\n",
        "  net = tf.keras.layers.Dense(44, activation=None, name='classifier')(net)\n",
        "  return tf.keras.Model(text_input, net)"
      ],
      "metadata": {
        "id": "yt3giUqlUVu5"
      },
      "execution_count": 21,
      "outputs": []
    },
    {
      "cell_type": "code",
      "source": [
        "classifier_model = build_classifier_model()"
      ],
      "metadata": {
        "id": "q-tazOR4sqKt"
      },
      "execution_count": 22,
      "outputs": []
    },
    {
      "cell_type": "code",
      "source": [
        "classifier_model = build_classifier_model()\n",
        "bert_raw_result = classifier_model(tf.constant(trainfeatures[0]))\n",
        "print(tf.keras.activations.softmax(bert_raw_result))"
      ],
      "metadata": {
        "id": "0z0hxUaMUrJD"
      },
      "execution_count": null,
      "outputs": []
    },
    {
      "cell_type": "code",
      "source": [
        "classifier_model.summary()"
      ],
      "metadata": {
        "colab": {
          "base_uri": "https://localhost:8080/"
        },
        "id": "Ep41LDGV7Qzs",
        "outputId": "de0f33d1-93c0-4f72-966c-df3177490d93"
      },
      "execution_count": 24,
      "outputs": [
        {
          "output_type": "stream",
          "name": "stdout",
          "text": [
            "Model: \"model_1\"\n",
            "__________________________________________________________________________________________________\n",
            "Layer (type)                    Output Shape         Param #     Connected to                     \n",
            "==================================================================================================\n",
            "text (InputLayer)               [(None,)]            0                                            \n",
            "__________________________________________________________________________________________________\n",
            "preprocessing (KerasLayer)      {'input_word_ids': ( 0           text[0][0]                       \n",
            "__________________________________________________________________________________________________\n",
            "BERT_encoder (KerasLayer)       {'encoder_outputs':  41373185    preprocessing[0][0]              \n",
            "                                                                 preprocessing[0][1]              \n",
            "                                                                 preprocessing[0][2]              \n",
            "__________________________________________________________________________________________________\n",
            "dropout_1 (Dropout)             (None, 512)          0           BERT_encoder[0][9]               \n",
            "__________________________________________________________________________________________________\n",
            "classifier (Dense)              (None, 44)           22572       dropout_1[0][0]                  \n",
            "==================================================================================================\n",
            "Total params: 41,395,757\n",
            "Trainable params: 41,395,756\n",
            "Non-trainable params: 1\n",
            "__________________________________________________________________________________________________\n"
          ]
        }
      ]
    },
    {
      "cell_type": "markdown",
      "source": [
        "#Train Model"
      ],
      "metadata": {
        "id": "7hkL8D_HRQ0Q"
      }
    },
    {
      "cell_type": "code",
      "source": [
        "loss = tf.keras.losses.CategoricalCrossentropy(from_logits=True)\n",
        "metrics = tf.metrics.CategoricalAccuracy()\n",
        "epochs=1\n",
        "\n",
        "optimizer=tf.keras.optimizers.Adam(1e-5)\n",
        "classifier_model.compile(optimizer=optimizer,\n",
        "                         loss=loss,\n",
        "                         metrics=metrics)"
      ],
      "metadata": {
        "id": "KHrk-tEuUtj7"
      },
      "execution_count": 25,
      "outputs": []
    },
    {
      "cell_type": "code",
      "source": [
        "history = classifier_model.fit(x=trainfeatures,y=trainlabels,\n",
        "                               batch_size=32,\n",
        "                               epochs=epochs)"
      ],
      "metadata": {
        "id": "dBA4oZzdUv8D"
      },
      "execution_count": null,
      "outputs": []
    },
    {
      "cell_type": "markdown",
      "source": [
        "#Evaluate the model"
      ],
      "metadata": {
        "id": "kESD_yFWRU09"
      }
    },
    {
      "cell_type": "code",
      "source": [
        "loss, accuracy = classifier_model.evaluate(testfeatures,testlabels)\n",
        "\n",
        "print(f'Loss: {loss}')\n",
        "print(f'Accuracy: {accuracy}')"
      ],
      "metadata": {
        "id": "zgqrK62vEP9e"
      },
      "execution_count": null,
      "outputs": []
    },
    {
      "cell_type": "markdown",
      "source": [
        "#Save the model "
      ],
      "metadata": {
        "id": "-qSdGBsaxhxy"
      }
    },
    {
      "cell_type": "markdown",
      "source": [
        "The model exported to .h5 file"
      ],
      "metadata": {
        "id": "3p51h-AwxkFb"
      }
    },
    {
      "cell_type": "code",
      "source": [
        "classifier_model.save('model.h5')"
      ],
      "metadata": {
        "id": "p7knTEjDxrkM"
      },
      "execution_count": 28,
      "outputs": []
    }
  ]
}